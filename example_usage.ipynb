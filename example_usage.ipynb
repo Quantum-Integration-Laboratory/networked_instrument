{
 "cells": [
  {
   "cell_type": "code",
   "execution_count": null,
   "id": "bc1a62de-1465-4e97-acc1-76995df72df7",
   "metadata": {},
   "outputs": [],
   "source": [
    "#Put nice code here"
   ]
  }
 ],
 "metadata": {
  "interpreter": {
   "hash": "aa8a76d9a9c8de28eeedc62f8e69b4ae28a7825b0f49c2de6e6c826a23820e53"
  },
  "kernelspec": {
   "display_name": "Python 3.9.7 64-bit",
   "language": "python",
   "name": "python3"
  },
  "language_info": {
   "codemirror_mode": {
    "name": "ipython",
    "version": 3
   },
   "file_extension": ".py",
   "mimetype": "text/x-python",
   "name": "python",
   "nbconvert_exporter": "python",
   "pygments_lexer": "ipython3",
   "version": "3.9.7"
  }
 },
 "nbformat": 4,
 "nbformat_minor": 5
}
